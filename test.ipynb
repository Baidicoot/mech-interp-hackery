{
 "cells": [
  {
   "cell_type": "code",
   "execution_count": 405,
   "metadata": {},
   "outputs": [],
   "source": [
    "import torch\n",
    "import torch.nn as nn\n",
    "import torch.nn.functional as F\n",
    "import einops\n",
    "from transformer_lens.hook_points import HookPoint"
   ]
  },
  {
   "cell_type": "code",
   "execution_count": 406,
   "metadata": {},
   "outputs": [],
   "source": [
    "class MLP(nn.Module):\n",
    "    def __init__(self, in_dim, hidden_dim):\n",
    "        super(MLP, self).__init__()\n",
    "        self.w1 = nn.Parameter(torch.ones(hidden_dim, in_dim))\n",
    "        #self.w2 = nn.Parameter(torch.randn(in_dim, hidden_dim))\n",
    "        self.b = nn.Parameter(torch.zeros(in_dim))\n",
    "\n",
    "        self.hook = HookPoint()\n",
    "    \n",
    "    def forward(self, x):\n",
    "        x = F.relu(einops.einsum(self.w1, x, \"h i, b i -> b h\"))\n",
    "        x = self.hook(x)\n",
    "        x = F.relu(einops.einsum(self.w1.T, x, \"i h, b h -> b i\") + self.b)\n",
    "        return x"
   ]
  },
  {
   "cell_type": "code",
   "execution_count": 407,
   "metadata": {},
   "outputs": [],
   "source": [
    "n_features = 100\n",
    "n_hidden = 40\n",
    "model = MLP(n_features, n_hidden)\n",
    "n_sparse = 50\n",
    "f_sparse = 0\n",
    "f_dense = 1"
   ]
  },
  {
   "cell_type": "code",
   "execution_count": 408,
   "metadata": {},
   "outputs": [
    {
     "name": "stdout",
     "output_type": "stream",
     "text": [
      "epoch 0 loss 1089885.25\n",
      "epoch 100 loss 923672.5\n",
      "epoch 200 loss 879833.375\n",
      "epoch 300 loss 911638.0\n",
      "epoch 400 loss 806224.4375\n",
      "epoch 500 loss 839479.5\n",
      "epoch 600 loss 805260.375\n",
      "epoch 700 loss 769295.625\n",
      "epoch 800 loss 760410.8125\n",
      "epoch 900 loss 778100.3125\n",
      "epoch 1000 loss 633523.5625\n",
      "epoch 1100 loss 692471.875\n",
      "epoch 1200 loss 585031.5\n",
      "epoch 1300 loss 623335.0625\n",
      "epoch 1400 loss 650392.375\n",
      "epoch 1500 loss 563867.0\n",
      "epoch 1600 loss 531847.5\n",
      "epoch 1700 loss 509765.6875\n",
      "epoch 1800 loss 500643.53125\n",
      "epoch 1900 loss 498207.6875\n",
      "epoch 2000 loss 475569.09375\n",
      "epoch 2100 loss 437385.3125\n",
      "epoch 2200 loss 440429.03125\n",
      "epoch 2300 loss 376832.53125\n",
      "epoch 2400 loss 427320.4375\n",
      "epoch 2500 loss 339497.09375\n",
      "epoch 2600 loss 403683.84375\n",
      "epoch 2700 loss 375860.25\n",
      "epoch 2800 loss 362562.25\n",
      "epoch 2900 loss 332272.75\n",
      "epoch 3000 loss 286267.4375\n",
      "epoch 3100 loss 311273.71875\n",
      "epoch 3200 loss 301877.3125\n",
      "epoch 3300 loss 270030.34375\n",
      "epoch 3400 loss 249794.109375\n",
      "epoch 3500 loss 274374.34375\n",
      "epoch 3600 loss 230143.640625\n",
      "epoch 3700 loss 227420.359375\n",
      "epoch 3800 loss 224816.171875\n",
      "epoch 3900 loss 206939.28125\n",
      "epoch 4000 loss 209521.65625\n",
      "epoch 4100 loss 191053.828125\n",
      "epoch 4200 loss 178449.796875\n",
      "epoch 4300 loss 173054.78125\n",
      "epoch 4400 loss 161305.6875\n",
      "epoch 4500 loss 175005.0625\n",
      "epoch 4600 loss 154585.96875\n",
      "epoch 4700 loss 152519.75\n",
      "epoch 4800 loss 154921.3125\n",
      "epoch 4900 loss 152112.875\n",
      "epoch 5000 loss 119487.0\n",
      "epoch 5100 loss 133093.71875\n",
      "epoch 5200 loss 124851.1484375\n",
      "epoch 5300 loss 121344.765625\n",
      "epoch 5400 loss 117783.78125\n",
      "epoch 5500 loss 109707.765625\n",
      "epoch 5600 loss 100011.0\n",
      "epoch 5700 loss 94200.609375\n",
      "epoch 5800 loss 90533.1328125\n",
      "epoch 5900 loss 84120.9765625\n",
      "epoch 6000 loss 87104.71875\n",
      "epoch 6100 loss 81081.65625\n",
      "epoch 6200 loss 80037.0859375\n",
      "epoch 6300 loss 82498.3515625\n",
      "epoch 6400 loss 70389.3046875\n",
      "epoch 6500 loss 70498.703125\n",
      "epoch 6600 loss 65770.78125\n",
      "epoch 6700 loss 62831.18359375\n",
      "epoch 6800 loss 58173.23046875\n",
      "epoch 6900 loss 59147.44921875\n",
      "epoch 7000 loss 52553.8984375\n",
      "epoch 7100 loss 51328.828125\n",
      "epoch 7200 loss 49631.42578125\n",
      "epoch 7300 loss 40670.0390625\n",
      "epoch 7400 loss 47740.12890625\n",
      "epoch 7500 loss 42536.44140625\n",
      "epoch 7600 loss 38692.04296875\n",
      "epoch 7700 loss 37948.74609375\n",
      "epoch 7800 loss 33041.83203125\n",
      "epoch 7900 loss 32652.283203125\n",
      "epoch 8000 loss 32399.6640625\n",
      "epoch 8100 loss 30515.767578125\n",
      "epoch 8200 loss 29930.1640625\n",
      "epoch 8300 loss 24189.5234375\n",
      "epoch 8400 loss 26535.7578125\n",
      "epoch 8500 loss 24997.2421875\n",
      "epoch 8600 loss 22271.068359375\n",
      "epoch 8700 loss 19391.63671875\n",
      "epoch 8800 loss 20014.9609375\n",
      "epoch 8900 loss 19637.0859375\n",
      "epoch 9000 loss 16977.31640625\n",
      "epoch 9100 loss 17276.294921875\n",
      "epoch 9200 loss 17090.048828125\n",
      "epoch 9300 loss 15112.73046875\n",
      "epoch 9400 loss 14212.833984375\n",
      "epoch 9500 loss 13748.1416015625\n",
      "epoch 9600 loss 13660.2734375\n",
      "epoch 9700 loss 11397.0859375\n",
      "epoch 9800 loss 11609.9580078125\n",
      "epoch 9900 loss 10820.265625\n"
     ]
    }
   ],
   "source": [
    "# training\n",
    "import torch.optim as optim\n",
    "\n",
    "optimizer = optim.Adam(model.parameters(), lr=0.0001)\n",
    "\n",
    "batch_size = 10\n",
    "\n",
    "losses = []\n",
    "\n",
    "for epoch in range(10000):\n",
    "    optimizer.zero_grad()\n",
    "    input = torch.rand(batch_size, n_features)\n",
    "\n",
    "    input[:, :n_sparse] = 0\n",
    "\n",
    "    # first 50 features are sparse\n",
    "    # randomly zero elements 1-f_sparse percent of the time\n",
    "    input[:, :n_sparse] = input[:, :n_sparse] * (torch.rand(batch_size, n_sparse) < f_sparse).float()\n",
    "\n",
    "    # last 50 features are dense\n",
    "    # randomly zero elements 1-f_dense percent of the time\n",
    "    input[:, n_sparse:] = input[:, n_sparse:] * (torch.rand(batch_size, n_features-n_sparse) < f_dense).float()\n",
    "\n",
    "    target = torch.abs(input)\n",
    "    output = model(input)\n",
    "    loss = F.mse_loss(output, target)\n",
    "    loss.backward()\n",
    "    losses.append(loss.item())\n",
    "    if epoch % 100 == 0:\n",
    "        print(\"epoch\", epoch, \"loss\", loss.item())\n",
    "    optimizer.step()"
   ]
  },
  {
   "cell_type": "code",
   "execution_count": 409,
   "metadata": {},
   "outputs": [
    {
     "data": {
      "image/png": "[encoded data removed]",
      "text/plain": [
       "<Figure size 640x480 with 1 Axes>"
      ]
     },
     "metadata": {},
     "output_type": "display_data"
    }
   ],
   "source": [
    "from matplotlib import pyplot as plt\n",
    "\n",
    "plt.plot(losses)\n",
    "plt.show()"
   ]
  },
  {
   "cell_type": "code",
   "execution_count": 410,
   "metadata": {},
   "outputs": [],
   "source": [
    "import numpy as np"
   ]
  },
  {
   "cell_type": "code",
   "execution_count": 411,
   "metadata": {},
   "outputs": [],
   "source": [
    "def visualize_weights_stacked(w_matrix, cols = None):\n",
    "    # view the weights as a series of stacked boxes\n",
    "    np_arr = w_matrix.detach().numpy()\n",
    "    rows = [np_arr[:, x] for x in range(np_arr.shape[1])]\n",
    "    col_sums = np.zeros(np_arr.shape[0])\n",
    "    for i, row in enumerate(rows):\n",
    "        if cols is not None:\n",
    "            for n, col in cols:\n",
    "                if i < n:\n",
    "                    color = col\n",
    "                    break\n",
    "                else:\n",
    "                    i -= n\n",
    "        else:\n",
    "            color = None\n",
    "\n",
    "        plt.bar(range(np_arr.shape[0]), np.abs(row), bottom=col_sums, linewidth=0.5, edgecolor=\"white\", color=color)\n",
    "        col_sums += np.abs(row)\n",
    "    plt.show()"
   ]
  },
  {
   "cell_type": "code",
   "execution_count": 412,
   "metadata": {},
   "outputs": [
    {
     "data": {
      "image/png": "[encoded data removed]",
      "text/plain": [
       "<Figure size 640x480 with 1 Axes>"
      ]
     },
     "metadata": {},
     "output_type": "display_data"
    }
   ],
   "source": [
    "visualize_weights_stacked(model.w1, cols=[(n_sparse, \"red\"), (n_features-n_sparse, \"blue\")])\n",
    "#visualize_weights_stacked(model.w2)"
   ]
  },
  {
   "cell_type": "code",
   "execution_count": 415,
   "metadata": {},
   "outputs": [
    {
     "name": "stderr",
     "output_type": "stream",
     "text": [
      "No artists with labels found to put in legend.  Note that artists whose label start with an underscore are ignored when legend() is called with no argument.\n"
     ]
    },
    {
     "data": {
      "image/png": "[encoded data removed]",
      "text/plain": [
       "<Figure size 640x480 with 1 Axes>"
      ]
     },
     "metadata": {},
     "output_type": "display_data"
    }
   ],
   "source": [
    "# draw the weights as a heatmap\n",
    "plt.imshow(model.w1.detach().numpy())\n",
    "plt.legend()\n",
    "plt.show()\n",
    "\n",
    "#plt.imshow(model.w2.detach().numpy())\n",
    "#plt.show()"
   ]
  }
 ],
 "metadata": {
  "kernelspec": {
   "display_name": "venv",
   "language": "python",
   "name": "python3"
  },
  "language_info": {
   "codemirror_mode": {
    "name": "ipython",
    "version": 3
   },
   "file_extension": ".py",
   "mimetype": "text/x-python",
   "name": "python",
   "nbconvert_exporter": "python",
   "pygments_lexer": "ipython3",
   "version": "3.10.10"
  },
  "orig_nbformat": 4
 },
 "nbformat": 4,
 "nbformat_minor": 2
}
